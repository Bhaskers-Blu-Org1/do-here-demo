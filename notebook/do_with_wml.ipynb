{
 "cells": [
  {
   "cell_type": "markdown",
   "metadata": {},
   "source": [
    "# Finding locations to establish temporary emergency facilities\n",
    "\n",
    "Run this notebook to create a Decision Optimization model with Decision Optimization for Watson Studio and deploy the model using Watson Machine Learning.\n",
    "\n",
    "The deployed model can later be accessed using the [Watson Machine Learning client library](https://wml-api-pyclient-dev-v4.mybluemix.net/) to find optimal location based on given constraints.\n",
    "\n",
    "The model created here is a basic Decision Optimization model. The main purpose is to demonstrate creating a model and deploying using Watson Machine Learning. This model can and should be improved upon to include better constrainsts and provider better solutions.\n",
    "\n",
    "\n",
    "## Steps\n",
    "\n",
    "**Build and deploy model**\n",
    "\n",
    "1. [Provision a Watson Machine Learning service](#provision-a-watson-machine-learning-service)\n",
    "1. [Set up the Watson Machine Learning client library](#set-up-the-watson-machine-learning-client-library)\n",
    "1. [Build the Decision Optimization model](#build-the-decision-optimization-model)\n",
    "1. [Deploy the Decision Optimization model](#deploy-the-decision-optimization-model)\n",
    "\n",
    "**Test the deployed model**\n",
    "\n",
    "1. [Generate an API Key from the HERE Developer Portal](#generate-an-api-key-from-the-here-developer-portal)\n",
    "1. [Query HERE API for Places](#query-here-api-for-places)\n",
    "1. [Create and monitor a job to test the deployed model](#create-and-monitor-a-job-to-test-the-deployed-model)\n",
    "1. [Extract and display solution](#extract-and-display-solution)\n"
   ]
  },
  {
   "cell_type": "markdown",
   "metadata": {},
   "source": [
    "<br>\n",
    "\n",
    "### Provision a Watson Machine Learning service\n",
    "\n",
    "- If you do not have an IBM Cloud account, [register for a free trial account](https://cloud.ibm.com/registration).\n",
    "- Log into [IBM Cloud](https://cloud.ibm.com/login)\n",
    "- Create a [create a Watson Machine Learning instance](https://cloud.ibm.com/catalog/services/machine-learning)\n"
   ]
  },
  {
   "cell_type": "markdown",
   "metadata": {},
   "source": [
    "<br>\n",
    "\n",
    "### Set up the Watson Machine Learning client library\n",
    "\n",
    "Install the [Watson Machine Learning client library](https://wml-api-pyclient-dev-v4.mybluemix.net/). This notebook uses the preview Python client based on v4 of Watson Machine Learning APIs. \n",
    "\n",
    "> **Important** Do not load both (V3 and V4) WML API client libraries into a notebook.\n"
   ]
  },
  {
   "cell_type": "code",
   "execution_count": null,
   "metadata": {},
   "outputs": [],
   "source": [
    "# Uninstall the Watson Machine Learning client Python client based on v3 APIs\n",
    "\n",
    "!pip uninstall watson-machine-learning-client -y"
   ]
  },
  {
   "cell_type": "code",
   "execution_count": null,
   "metadata": {
    "scrolled": true
   },
   "outputs": [],
   "source": [
    "# Install the WML client API v4\n",
    "\n",
    "!pip install watson-machine-learning-client-V4"
   ]
  },
  {
   "cell_type": "markdown",
   "metadata": {},
   "source": [
    "<br>\n",
    "\n",
    "#### Create a client instance\n",
    "\n",
    "Use your [Watson Machine Learning service credentials](https://dataplatform.cloud.ibm.com/docs/content/wsj/analyze-data/ml-get-wml-credentials.html) and update the next cell."
   ]
  },
  {
   "cell_type": "code",
   "execution_count": null,
   "metadata": {},
   "outputs": [],
   "source": [
    "# @hidden_cell\n",
    "\n",
    "WML_API_KEY = '...'\n",
    "WML_INSTANCE_ID = '...'\n",
    "WML_URL = 'https://us-south.ml.cloud.ibm.com'"
   ]
  },
  {
   "cell_type": "code",
   "execution_count": null,
   "metadata": {},
   "outputs": [],
   "source": [
    "from watson_machine_learning_client import WatsonMachineLearningAPIClient"
   ]
  },
  {
   "cell_type": "code",
   "execution_count": null,
   "metadata": {},
   "outputs": [],
   "source": [
    "# Instantiate a client using credentials\n",
    "wml_credentials = {\n",
    "  'apikey': WML_API_KEY,\n",
    "  'instance_id': WML_INSTANCE_ID,\n",
    "  'url': WML_URL\n",
    "}\n",
    "\n",
    "client = WatsonMachineLearningAPIClient(wml_credentials)"
   ]
  },
  {
   "cell_type": "code",
   "execution_count": null,
   "metadata": {
    "scrolled": true
   },
   "outputs": [],
   "source": [
    "client.version"
   ]
  },
  {
   "cell_type": "markdown",
   "metadata": {},
   "source": [
    "<br>\n",
    "\n",
    "### Build the Decision Optimization model\n",
    "\n",
    "- The Decision Optimization model will be saved to a `model.py` file in a subdirectory (i.e., `model/`) of the current working directory.\n",
    "- The model will be placed in a tar archive and uploaded to Watson Machine Learning.\n",
    "\n",
    "Set up variables for model and deployment"
   ]
  },
  {
   "cell_type": "code",
   "execution_count": null,
   "metadata": {},
   "outputs": [],
   "source": [
    "import os\n",
    "\n",
    "\n",
    "model_dir = 'model'\n",
    "model_file = 'model.py'\n",
    "model_path = '{}/{}'.format(model_dir, model_file)\n",
    "\n",
    "model_tar = 'model.tar.gz'\n",
    "model_tar_path = '{}/{}'.format(os.getcwd(), model_tar)\n",
    "\n",
    "model_name = 'DO_HERE_DEMO'\n",
    "model_desc = 'Finding locations for short-term emergency facilities'\n",
    "\n",
    "deployment_name = 'DO_HERE_DEMO Deployment'\n",
    "deployment_desc = 'Deployment of DO_HERE_DEMO model'\n",
    "\n",
    "\n",
    "print(model_path)\n",
    "print(model_tar_path)"
   ]
  },
  {
   "cell_type": "markdown",
   "metadata": {},
   "source": [
    "<br>\n",
    "\n",
    "#### Create the model.py in a model subdirectory\n",
    "\n",
    "Use the  `mkdir` and `write_file` commands to create the subdirectory and write the model code to a file. \n"
   ]
  },
  {
   "cell_type": "code",
   "execution_count": null,
   "metadata": {
    "scrolled": true
   },
   "outputs": [],
   "source": [
    "%mkdir $model_dir"
   ]
  },
  {
   "cell_type": "code",
   "execution_count": null,
   "metadata": {},
   "outputs": [],
   "source": [
    "%%writefile $model_path\n",
    "\n",
    "from docplex.util.environment import get_environment\n",
    "from os.path import splitext\n",
    "import pandas\n",
    "from six import iteritems\n",
    "import json\n",
    "\n",
    "\n",
    "def get_all_inputs():\n",
    "    '''Utility method to read a list of files and return a tuple with all\n",
    "    read data frames.\n",
    "    Returns:\n",
    "        a map { datasetname: data frame }\n",
    "    '''\n",
    "    result = {}\n",
    "    env = get_environment()\n",
    "    for iname in [f for f in os.listdir('.') if splitext(f)[1] == '.csv']:\n",
    "        with env.get_input_stream(iname) as in_stream:\n",
    "            df = pandas.read_csv(in_stream)\n",
    "            datasetname, _ = splitext(iname)\n",
    "            result[datasetname] = df\n",
    "    return result\n",
    "\n",
    "def write_all_outputs(outputs):\n",
    "    '''Write all dataframes in ``outputs`` as .csv.\n",
    "\n",
    "    Args:\n",
    "        outputs: The map of outputs 'outputname' -> 'output df'\n",
    "    '''\n",
    "    for (name, df) in iteritems(outputs):\n",
    "        if isinstance(df, pandas.DataFrame):\n",
    "            csv_file = '%s.csv' % name\n",
    "            print(csv_file)\n",
    "            with get_environment().get_output_stream(csv_file) as fp:\n",
    "                if sys.version_info[0] < 3:\n",
    "                    fp.write(df.to_csv(index=False, encoding='utf8'))\n",
    "                else:\n",
    "                    fp.write(df.to_csv(index=False).encode(encoding='utf8'))\n",
    "        elif isinstance(df, str):\n",
    "            txt_file = '%s.txt' % name \n",
    "            with get_environment().get_output_stream(txt_file) as fp:\n",
    "                fp.write(df.encode(encoding='utf8'))\n",
    "                \n",
    "    if len(outputs) == 0:\n",
    "        print('Warning: no outputs written')\n"
   ]
  },
  {
   "cell_type": "code",
   "execution_count": null,
   "metadata": {},
   "outputs": [],
   "source": [
    "%%writefile -a $model_path\n",
    "\n",
    "from docplex.mp.model import Model\n",
    "from statistics import mean\n",
    "\n",
    "\n",
    "def get_distance(routes_df, start, destination):\n",
    "    s = getattr(start, 'geocode', start)\n",
    "    d = getattr(destination, 'geocode', destination)\n",
    "    row = routes_df.loc[\n",
    "        (routes_df['start'] == s) &\n",
    "        (routes_df['destination'] == d)\n",
    "    ]\n",
    "    return row['distance'].values[0]\n",
    "\n",
    "\n",
    "def build_and_solve(places_df, routes_df, number_sites=3):\n",
    "    print('Building and solving model')\n",
    "    \n",
    "    mean_dist = mean(routes_df['distance'].unique())\n",
    "    p_only = places_df.loc[places_df['is_medical'] == False]\n",
    "    h_only = places_df.loc[places_df['is_medical'] == True]\n",
    "    \n",
    "    places = list(p_only.itertuples(name='Place', index=False))\n",
    "\n",
    "    postal_codes = p_only['postal_code'].unique()\n",
    "    hospital_geocodes = h_only['geocode'].unique()\n",
    "\n",
    "    mdl = Model(name='temporary emergency sites')\n",
    "    \n",
    "    ## decision variables\n",
    "    places_vars = mdl.binary_var_dict(places, name='is_place')\n",
    "    postal_link_vars = mdl.binary_var_matrix(postal_codes, places, 'link')\n",
    "    hosp_link_vars = mdl.binary_var_matrix(hospital_geocodes, places, 'link')\n",
    "\n",
    "    ## objective function\n",
    "    # minimize hospital distances\n",
    "    h_total_distance = mdl.sum(hosp_link_vars[h, p] * abs(mean_dist - get_distance(routes_df, h, p)) for h in hospital_geocodes for p in places)\n",
    "    mdl.minimize(h_total_distance)\n",
    "\n",
    "    ## constraints\n",
    "    # match places with their correct postal_code\n",
    "    for p in places:\n",
    "        for c in postal_codes:\n",
    "            if p.postal_code != c:\n",
    "                mdl.add_constraint(postal_link_vars[c, p] == 0, 'ct_forbid_{0!s}_{1!s}'.format(c, p))\n",
    "\n",
    "    # # each postal_code should have one only place\n",
    "    # mdl.add_constraints(\n",
    "    #     mdl.sum(postal_link_vars[c, p] for p in places) == 1 for c in postal_codes\n",
    "    # )\n",
    "\n",
    "    # # each postal_code must be associated with a place\n",
    "    # mdl.add_constraints(\n",
    "    #     postal_link_vars[c, p] <= places_vars[p] for p in places for c in postal_codes\n",
    "    # )\n",
    "\n",
    "    # solve for 'number_sites' places\n",
    "    mdl.add_constraint(mdl.sum(places_vars[p] for p in places) == number_sites)\n",
    "\n",
    "    ## model info\n",
    "    mdl.print_information()\n",
    "    stats = mdl.get_statistics()\n",
    "\n",
    "    ## model solve\n",
    "    mdl.solve(log_output=True)\n",
    "    details = mdl.solve_details\n",
    "\n",
    "    status = '''\n",
    "    Model stats\n",
    "      number of variables: {}\n",
    "      number of constraints: {}\n",
    "\n",
    "    Model solve\n",
    "      time (s): {}\n",
    "      status: {}\n",
    "    '''.format(\n",
    "        stats.number_of_variables,\n",
    "        stats.number_of_constraints,\n",
    "        details.time,\n",
    "        details.status\n",
    "    )\n",
    "\n",
    "    possible_sites = [p for p in places if places_vars[p].solution_value == 1]\n",
    "\n",
    "    return possible_sites, status\n"
   ]
  },
  {
   "cell_type": "code",
   "execution_count": null,
   "metadata": {},
   "outputs": [],
   "source": [
    "%%writefile -a $model_path\n",
    "\n",
    "import pandas\n",
    "\n",
    "\n",
    "def run():\n",
    "    # Load CSV files into inputs dictionary\n",
    "    inputs = get_all_inputs()\n",
    "\n",
    "    places_df = inputs['places']    \n",
    "    routes_df = inputs['routes']\n",
    "\n",
    "    site_suggestions, status = build_and_solve(places_df, routes_df)\n",
    "    solution_df = pandas.DataFrame(site_suggestions)\n",
    "\n",
    "    outputs = {\n",
    "        'solution': solution_df,\n",
    "        'status': status\n",
    "    }\n",
    "\n",
    "    # Generate output files\n",
    "    write_all_outputs(outputs)\n",
    "    \n",
    "    \n",
    "run()\n"
   ]
  },
  {
   "cell_type": "markdown",
   "metadata": {},
   "source": [
    "<br>\n",
    "\n",
    "#### Create the model tar archive\n",
    "\n",
    "Use the `tar` command to create a tar archive with the model file.\n"
   ]
  },
  {
   "cell_type": "code",
   "execution_count": null,
   "metadata": {},
   "outputs": [],
   "source": [
    "import tarfile\n",
    "\n",
    "def reset(tarinfo):\n",
    "    tarinfo.uid = tarinfo.gid = 0\n",
    "    tarinfo.uname = tarinfo.gname = 'root'\n",
    "    return tarinfo\n",
    "\n",
    "tar = tarfile.open(model_tar, 'w:gz')\n",
    "tar.add(model_path, arcname=model_file, filter=reset)\n",
    "tar.close()"
   ]
  },
  {
   "cell_type": "markdown",
   "metadata": {},
   "source": [
    "<br>\n",
    "\n",
    "### Deploy the Decision Optimization model\n",
    "\n",
    "Store model in Watson Machine Learning with:\n",
    "\n",
    "- the tar archive previously created,\n",
    "- metadata including the model type and runtime\n"
   ]
  },
  {
   "cell_type": "code",
   "execution_count": null,
   "metadata": {},
   "outputs": [],
   "source": [
    "# All available meta data properties \n",
    "\n",
    "client.repository.ModelMetaNames.show()"
   ]
  },
  {
   "cell_type": "code",
   "execution_count": null,
   "metadata": {},
   "outputs": [],
   "source": [
    "# All available runtimes\n",
    "\n",
    "client.runtimes.list(pre_defined=True)"
   ]
  },
  {
   "cell_type": "markdown",
   "metadata": {},
   "source": [
    "<br>\n",
    "\n",
    "#### Upload the model to Watson Machine Learning\n",
    "\n",
    "Configure the model metadata and set the model type (i.e., `do-docplex_12.9`) and runtime (i.e., `do_12.9`)\n"
   ]
  },
  {
   "cell_type": "code",
   "execution_count": null,
   "metadata": {},
   "outputs": [],
   "source": [
    "import os\n",
    "\n",
    "model_metadata = {\n",
    "    client.repository.ModelMetaNames.NAME: model_name,\n",
    "    client.repository.ModelMetaNames.DESCRIPTION: model_desc,\n",
    "    client.repository.ModelMetaNames.TYPE: 'do-docplex_12.9',\n",
    "    client.repository.ModelMetaNames.RUNTIME_UID: 'do_12.9'\n",
    "}\n",
    "\n",
    "model_details = client.repository.store_model(model=model_tar_path, meta_props=model_metadata)\n",
    "\n",
    "model_uid = client.repository.get_model_uid(model_details)\n",
    "\n",
    "print('Model GUID: {}'.format(model_uid))"
   ]
  },
  {
   "cell_type": "markdown",
   "metadata": {},
   "source": [
    "<br>\n",
    "\n",
    "#### Create a deployment \n",
    "\n",
    "Create a batch deployment for the model, providing deployment metadata and model UID.\n"
   ]
  },
  {
   "cell_type": "code",
   "execution_count": null,
   "metadata": {},
   "outputs": [],
   "source": [
    "deployment_metadata = {\n",
    "    client.deployments.ConfigurationMetaNames.NAME: deployment_name,\n",
    "    client.deployments.ConfigurationMetaNames.DESCRIPTION: deployment_desc,\n",
    "    client.deployments.ConfigurationMetaNames.BATCH: {},\n",
    "    client.deployments.ConfigurationMetaNames.COMPUTE: {'name': 'S', 'nodes': 1}\n",
    "}\n",
    "\n",
    "deployment_details = client.deployments.create(model_uid, meta_props=deployment_metadata)\n",
    "\n",
    "deployment_uid = client.deployments.get_uid(deployment_details)\n",
    "\n",
    "print('Deployment GUID: {}'.format(deployment_uid))"
   ]
  },
  {
   "cell_type": "markdown",
   "metadata": {},
   "source": [
    "<br>\n",
    "\n",
    "**Congratulations!** The model has been succesfully deployed. Please make a note of the deployment UID."
   ]
  },
  {
   "cell_type": "markdown",
   "metadata": {},
   "source": [
    "<br>\n",
    "\n",
    "## Test the deployed model\n",
    "\n",
    "### Generate an API Key from the HERE Developer Portal\n",
    "\n",
    "To test your deployed model using actual data from HERE Location services, you'll need an API key.   \n",
    "\n",
    "Follow the instructions outlined in the [HERE Developer Portal](https://developer.here.com/sign-up) to [generate an API key](https://developer.here.com/documentation/authentication/dev_guide/topics/api-key-credentials.html).\n",
    "\n",
    "Use your [HERE.com API key](https://developer.here.com/sign-up) and update the next cell.\n"
   ]
  },
  {
   "cell_type": "code",
   "execution_count": null,
   "metadata": {},
   "outputs": [],
   "source": [
    "# @hidden_cell\n",
    "\n",
    "HERE_APIKEY = '...'\n"
   ]
  },
  {
   "cell_type": "markdown",
   "metadata": {},
   "source": [
    "<br>\n",
    "\n",
    "Set up helper functions to query HERE APIs"
   ]
  },
  {
   "cell_type": "code",
   "execution_count": null,
   "metadata": {},
   "outputs": [],
   "source": [
    "import re\n",
    "import requests\n",
    "\n",
    "geocode_endpoint = 'https://geocode.search.hereapi.com/v1/geocode?q={address}&apiKey={api_key}'\n",
    "browse_endpoint = 'https://browse.search.hereapi.com/v1/browse?categories=%s&at=%s&apiKey=%s'\n",
    "matrix_routing_endpoint = 'https://matrix.route.ls.hereapi.com/routing/7.2/calculatematrix.json?mode=%s&summaryAttributes=%s&apiKey=%s'\n",
    "\n",
    "coordinates_regex = '^[-+]?([1-8]?\\d(\\.\\d+)?|90(\\.0+)?),\\s*[-+]?(180(\\.0+)?|((1[0-7]\\d)|([1-9]?\\d))(\\.\\d+)?)$'\n",
    "\n",
    "def is_geocode (location):\n",
    "    geocode = None\n",
    "    if isinstance(location, str):\n",
    "        l = location.split(',')\n",
    "        if len(l) == 2:\n",
    "            geocode = '{},{}'.format(l[0].strip(), l[1].strip())\n",
    "    elif isinstance(location, list) and len(location) == 2:\n",
    "        geocode = ','.join(str(l) for l in location)\n",
    "      \n",
    "    if geocode is not None and re.match(coordinates_regex, geocode):\n",
    "        return [float(l) for l in geocode.split(',')]\n",
    "    else:\n",
    "        return False\n",
    "\n",
    "    \n",
    "def get_geocode (address):\n",
    "    g = is_geocode(address)\n",
    "\n",
    "    if not g:\n",
    "        url = geocode_endpoint.format(address=address, api_key=HERE_APIKEY)\n",
    "        response = requests.get(url)\n",
    "        \n",
    "        if response.ok:\n",
    "            jsonResponse = response.json()\n",
    "            position = jsonResponse['items'][0]['position']\n",
    "            g = [position['lat'], position['lng']]\n",
    "        else:\n",
    "            print(response.text)\n",
    "\n",
    "    return g\n",
    "\n",
    "\n",
    "def get_browse_url (location, categories, limit=25):\n",
    "    categories = ','.join(c for c in categories)\n",
    "    geocode = get_geocode(location)\n",
    "    coordinates = ','.join(str(g) for g in geocode)\n",
    "\n",
    "    browse_url = browse_endpoint % (\n",
    "        categories,\n",
    "        coordinates,\n",
    "        HERE_APIKEY\n",
    "    )\n",
    "\n",
    "    if limit > 0:\n",
    "        browse_url = '{}&limit={}'.format(browse_url, limit)\n",
    "  \n",
    "    return browse_url\n",
    "\n",
    "\n",
    "def browse_places (location, categories=[], results_limit=100):\n",
    "    places_list = []\n",
    "\n",
    "    browse_url = get_browse_url(location, categories, limit=results_limit)\n",
    "    response = requests.get(browse_url)\n",
    "\n",
    "    if response.ok:\n",
    "        json_response = response.json()\n",
    "        places_list = json_response['items']\n",
    "    else:\n",
    "        print(response.text)\n",
    "\n",
    "    return places_list\n",
    "\n",
    "\n",
    "def get_places_nearby (location, categories=[], results_limit=100, max_distance_km=50):\n",
    "    places_list = browse_places(location, categories=categories, results_limit=results_limit)\n",
    "\n",
    "    filtered_places = []\n",
    "\n",
    "    for p in places_list:\n",
    "        if p['distance'] <= max_distance_km * 1000:\n",
    "            filtered_places.append(Place(p))\n",
    "\n",
    "    return filtered_places\n",
    "\n",
    "\n",
    "def get_hospitals_nearby (location, results_limit=100, max_distance_km=50):\n",
    "    h_cat = ['800-8000-0159']\n",
    "    hospitals_list = browse_places(location, categories=h_cat, results_limit=results_limit)\n",
    "\n",
    "    filtered_hospitals = []\n",
    "\n",
    "    for h in hospitals_list:\n",
    "        if h['distance'] <= max_distance_km * 1000:\n",
    "            filtered_hospitals.append(Place(h, is_medical=True))\n",
    "\n",
    "    return filtered_hospitals\n",
    "\n",
    "\n",
    "def get_matrix_routing_url ():\n",
    "    route_mode = 'shortest;car;traffic:disabled;'\n",
    "    summary_attributes = 'routeId,distance'\n",
    "\n",
    "    matrix_routing_url = matrix_routing_endpoint % (\n",
    "        route_mode,\n",
    "        summary_attributes,\n",
    "        HERE_APIKEY\n",
    "    )\n",
    "\n",
    "    return matrix_routing_url\n",
    "\n",
    "\n",
    "def get_route_summaries (current_geocode, places, hospitals):\n",
    "    # Request should not contain more than 15 start positions\n",
    "    num_starts = 15\n",
    "\n",
    "    postal_codes_set = set()\n",
    "    postal_codes_geocodes = []\n",
    "    places_waypoints = {}\n",
    "\n",
    "    for i, p in enumerate(places):\n",
    "        if p.postal_code:\n",
    "            postal_codes_set.add('{}:{}'.format(p.postal_code, p.country))\n",
    "        places_waypoints['destination{}'.format(i)] = p.geocode\n",
    "\n",
    "    for p in postal_codes_set:\n",
    "        geocode = get_geocode(p)\n",
    "        postal_codes_geocodes.append({\n",
    "            'postal_code': p.split(':')[0],\n",
    "            'geocode': ','.join(str(g) for g in geocode)\n",
    "        })\n",
    "\n",
    "    current = {\n",
    "        'geocode': ','.join(str(g) for g in current_geocode)\n",
    "    }\n",
    "\n",
    "    start_geocodes = [current] + postal_codes_geocodes + [h.to_dict() for h in hospitals]\n",
    "    start_coords = [\n",
    "        start_geocodes[i:i+num_starts] \n",
    "        for i in range(0, len(start_geocodes), num_starts)\n",
    "    ]\n",
    "\n",
    "    route_summaries = []\n",
    "    matrix_routing_url = get_matrix_routing_url()\n",
    "\n",
    "    for sc in start_coords:\n",
    "        start_waypoints = {}\n",
    "        for i, s in enumerate(sc):\n",
    "            start_waypoints['start{}'.format(i)] = s['geocode']\n",
    "\n",
    "        coords = {**start_waypoints, **places_waypoints}\n",
    "        response = requests.post(matrix_routing_url, data = coords)\n",
    "\n",
    "        if not response.ok:\n",
    "            print(response.text)\n",
    "        else:\n",
    "            json_response = response.json()\n",
    "            for entry in json_response['response']['matrixEntry']:\n",
    "                start_geocode = start_waypoints['start{}'.format(entry['startIndex'])]\n",
    "                dest_geocode = places_waypoints[\n",
    "                    'destination{}'.format(entry['destinationIndex'])\n",
    "                ]\n",
    "\n",
    "                for s in sc:\n",
    "                    if 'address' not in s and 'postal_code' in s and s['geocode'] == start_geocode:\n",
    "                        route_summaries.append({\n",
    "                            'start': s['postal_code'],\n",
    "                            'destination': dest_geocode,\n",
    "                            'distance': entry['summary']['distance'],\n",
    "                            'route_id': entry['summary']['routeId']\n",
    "                        })\n",
    "                        break\n",
    "\n",
    "                route_summaries.append({\n",
    "                    'start': start_geocode,\n",
    "                    'destination': dest_geocode,\n",
    "                    'distance': entry['summary']['distance'],\n",
    "                    'route_id': entry['summary']['routeId']\n",
    "                })\n",
    "\n",
    "    return route_summaries\n"
   ]
  },
  {
   "cell_type": "markdown",
   "metadata": {},
   "source": [
    "<br>\n",
    "\n",
    "Define a Place class\n"
   ]
  },
  {
   "cell_type": "code",
   "execution_count": null,
   "metadata": {},
   "outputs": [],
   "source": [
    "class Place(object):\n",
    "    def __init__(self, p, is_medical=False):\n",
    "        self.id = p['id']\n",
    "        self.title = p['title']\n",
    "        self.address = p['address']['label'] if 'label' in p['address'] else p['address']\n",
    "        self.postal_code = p['address']['postalCode'] if 'postalCode' in p['address'] else p['postal_code']\n",
    "        self.distance = p['distance']\n",
    "        self.primary_category = p['categories'][0]['id'] if 'categories' in p else p['primary_category']\n",
    "        self.geocode = '{},{}'.format(p['position']['lat'], p['position']['lng']) if 'position' in p else p['geocode']\n",
    "        self.country = p['address']['countryCode'] if 'countryCode' in p['address'] else p['country']\n",
    "        self.is_medical = p['is_medical'] if 'is_medical' in p else is_medical\n",
    "        if isinstance(self.is_medical, str):\n",
    "            self.is_medical = self.is_medical.lower() in ['true', '1']\n",
    "    \n",
    "    def to_dict(self):\n",
    "        location = self.geocode.split(',')\n",
    "        return({\n",
    "          'id': self.id,\n",
    "          'title': self.title,\n",
    "          'address': self.address,\n",
    "          'postal_code': self.postal_code,\n",
    "          'distance': self.distance,\n",
    "          'primary_category': self.primary_category,\n",
    "          'geocode': self.geocode,\n",
    "          'country': self.country,\n",
    "          'is_medical': self.is_medical\n",
    "        })\n",
    "    \n",
    "    def __str__(self):\n",
    "        return self.address\n"
   ]
  },
  {
   "cell_type": "markdown",
   "metadata": {},
   "source": [
    "<br>\n",
    "\n",
    "### Query HERE API for Places\n",
    "\n",
    "Use the HERE API to get a list of Places in the vicinity of an address"
   ]
  },
  {
   "cell_type": "markdown",
   "metadata": {},
   "source": [
    "Example of `Place` entity returned by HERE API:\n",
    "```json\n",
    "  {\n",
    "    'title': 'Duane Street Hotel',\n",
    "    'id': 'here:pds:place:840dr5re-fba2a2b91f944ee4a699eea7556896bd',\n",
    "    'resultType': 'place',\n",
    "    'address': {\n",
    "      'label': 'Duane Street Hotel, 130 Duane St, New York, NY 10013, United States',\n",
    "      'countryCode': 'USA',\n",
    "      'countryName': 'United States',\n",
    "      'state': 'New York',\n",
    "      'county': 'New York',\n",
    "      'city': 'New York',\n",
    "      'district': 'Tribeca',\n",
    "      'street': 'Duane St',\n",
    "      'postalCode': '10013',\n",
    "      'houseNumber': '130'\n",
    "    },\n",
    "    'position': { 'lat': 40.71599, 'lng': -74.00735 },\n",
    "    'access': [ { 'lat': 40.71608, 'lng': -74.00728 } ],\n",
    "    'distance': 161,\n",
    "    'categories': [\n",
    "      { 'id': '100-1000-0000' },\n",
    "      { 'id': '200-2000-0000' },\n",
    "      { 'id': '500-5000-0000' },\n",
    "      { 'id': '500-5000-0053' },\n",
    "      { 'id': '500-5100-0000' },\n",
    "      { 'id': '700-7400-0145' }\n",
    "    ],\n",
    "    'foodTypes': [ { 'id': '101-000' } ],\n",
    "    'contacts': [ ],\n",
    "    'openingHours': [\n",
    "      {\n",
    "        'text': [ 'Mon-Sun: 00:00 - 24:00' ],\n",
    "        'isOpen': true,\n",
    "        'structured': [\n",
    "          {\n",
    "            'start': 'T000000',\n",
    "            'duration': 'PT24H00M',\n",
    "            'recurrence': 'FREQ:DAILY;BYDAY:MO,TU,WE,TH,FR,SA,SU'\n",
    "          }\n",
    "        ]\n",
    "      }\n",
    "    ]\n",
    "  }\n",
    "```"
   ]
  },
  {
   "cell_type": "code",
   "execution_count": null,
   "metadata": {},
   "outputs": [],
   "source": [
    "address = 'New York, NY'\n",
    "max_results = 20\n",
    "\n",
    "# HERE Place Category System\n",
    "# https://developer.here.com/documentation/geocoding-search-api/dev_guide/topics-places/places-category-system-full.html\n",
    "places_categories = ['500-5000'] # Hotel-Motel\n",
    "\n",
    "current_geocode = get_geocode(address)\n",
    "\n",
    "places = get_places_nearby(\n",
    "    current_geocode,\n",
    "    categories=places_categories,\n",
    "    results_limit=max_results\n",
    ")\n",
    "\n",
    "hospitals = get_hospitals_nearby(\n",
    "    current_geocode,\n",
    "    results_limit=3\n",
    ")\n",
    "\n",
    "print('Places:')\n",
    "for p in places:\n",
    "    print(p)\n",
    "\n",
    "print('\\nHospitals:')\n",
    "for h in hospitals:\n",
    "    print(h)"
   ]
  },
  {
   "cell_type": "markdown",
   "metadata": {},
   "source": [
    "<br>\n",
    "\n",
    "### Create and monitor a job to test the deployed model\n",
    "\n",
    "Create a payload containing places data received from HERE\n"
   ]
  },
  {
   "cell_type": "code",
   "execution_count": null,
   "metadata": {},
   "outputs": [],
   "source": [
    "import pandas as pd\n",
    "\n",
    "places_df = pd.DataFrame.from_records([p.to_dict() for p in (places + hospitals)])\n",
    "\n",
    "places_df.head()"
   ]
  },
  {
   "cell_type": "code",
   "execution_count": null,
   "metadata": {},
   "outputs": [],
   "source": [
    "route_summaries = get_route_summaries(current_geocode, places, hospitals)\n",
    "\n",
    "routes_df = pd.DataFrame.from_records(route_summaries)\n",
    "routes_df.drop_duplicates(keep='last', inplace=True)\n",
    "\n",
    "routes_df.head()\n"
   ]
  },
  {
   "cell_type": "code",
   "execution_count": null,
   "metadata": {
    "scrolled": true
   },
   "outputs": [],
   "source": [
    "solve_payload = {\n",
    "    client.deployments.DecisionOptimizationMetaNames.INPUT_DATA: [\n",
    "        { 'id': 'places.csv', 'values' : places_df },\n",
    "        { 'id': 'routes.csv', 'values' : routes_df }\n",
    "    ],\n",
    "    client.deployments.DecisionOptimizationMetaNames.OUTPUT_DATA: [\n",
    "        { 'id': '.*\\.csv' },\n",
    "        { 'id': '.*\\.txt' }\n",
    "    ]\n",
    "}"
   ]
  },
  {
   "cell_type": "markdown",
   "metadata": {},
   "source": [
    "<br>\n",
    "\n",
    "Submit a new job with the payload and deployment.  \n",
    "Set the UID of the deployed model.\n"
   ]
  },
  {
   "cell_type": "code",
   "execution_count": null,
   "metadata": {},
   "outputs": [],
   "source": [
    "# deployment_uid = '...'"
   ]
  },
  {
   "cell_type": "code",
   "execution_count": null,
   "metadata": {},
   "outputs": [],
   "source": [
    "job_details = client.deployments.create_job(deployment_uid, solve_payload)\n",
    "job_uid = client.deployments.get_job_uid(job_details)\n",
    "\n",
    "print('Job UID: {}'.format(job_uid))"
   ]
  },
  {
   "cell_type": "markdown",
   "metadata": {},
   "source": [
    "Display job status until it is completed.\n",
    "\n",
    "The first job of a new deployment might take some time as a compute node must be started."
   ]
  },
  {
   "cell_type": "code",
   "execution_count": null,
   "metadata": {},
   "outputs": [],
   "source": [
    "from time import sleep\n",
    "\n",
    "while job_details['entity']['decision_optimization']['status']['state'] not in ['completed', 'failed', 'canceled']:\n",
    "    print(job_details['entity']['decision_optimization']['status']['state'] + '...')\n",
    "    sleep(3)\n",
    "    job_details=client.deployments.get_job_details(job_uid)\n",
    "\n",
    "print(job_details['entity']['decision_optimization']['status']['state'])"
   ]
  },
  {
   "cell_type": "code",
   "execution_count": null,
   "metadata": {},
   "outputs": [],
   "source": [
    "# job_details\n",
    "job_details['entity']['decision_optimization']['status']"
   ]
  },
  {
   "cell_type": "markdown",
   "metadata": {},
   "source": [
    "<br>\n",
    "\n",
    "### Extract and display solution\n",
    "\n",
    "Display the output solution."
   ]
  },
  {
   "cell_type": "code",
   "execution_count": null,
   "metadata": {
    "scrolled": true
   },
   "outputs": [],
   "source": [
    "import base64\n",
    "\n",
    "output_data = job_details['entity']['decision_optimization']['output_data']\n",
    "solution = None\n",
    "stats = None\n",
    "\n",
    "for i, d in enumerate(output_data):\n",
    "    if d['id'] == 'solution.csv':\n",
    "        solution = pd.DataFrame(output_data[i]['values'], \n",
    "                        columns = job_details['entity']['decision_optimization']['output_data'][0]['fields'])\n",
    "    else:\n",
    "        stats = base64.b64decode(output_data[i]['values'][0][0]).decode('utf-8')\n",
    "\n",
    "print(stats)\n",
    "solution.head()\n"
   ]
  },
  {
   "cell_type": "markdown",
   "metadata": {},
   "source": [
    "<br>\n",
    "\n",
    "Check out the online documentation at <a href=\"https://dataplatform.cloud.ibm.com/docs\" target=\"_blank\" rel=\"noopener noreferrer\">https://dataplatform.cloud.ibm.com/docs</a> for more samples, tutorials and documentation. "
   ]
  },
  {
   "cell_type": "markdown",
   "metadata": {},
   "source": [
    "\n",
    "<br>\n",
    "\n",
    "## Helper functions\n",
    "\n",
    "See `watson-machine-learning-client(V4)` Python library documentation for more info on the API:\n",
    "https://wml-api-pyclient-dev-v4.mybluemix.net/\n"
   ]
  },
  {
   "cell_type": "code",
   "execution_count": null,
   "metadata": {},
   "outputs": [],
   "source": [
    "## List models\n",
    "def list_models(wml_client):\n",
    "    wml_client.repository.list_models()\n",
    "\n",
    "    \n",
    "## List deployments\n",
    "def list_deployments(wml_client):\n",
    "    wml_client.deployments.list()\n",
    "    \n",
    "\n",
    "## Delete a model\n",
    "def delete_model(wml_client, model_uid):\n",
    "    wml_client.repository.delete(model_uid)\n",
    "    \n",
    "\n",
    "## Delete a deployment\n",
    "def delete_deployment(wml_client, deployment_uid):\n",
    "    wml_client.deployments.delete(deployment_uid)\n",
    "\n",
    "    \n",
    "## Get details of all models\n",
    "def details_all_models(wml_client):\n",
    "    return wml_client.repository.get_model_details()['resources']\n",
    "\n",
    "\n",
    "## Get details of all deployments\n",
    "def details_all_deployments(wml_client):\n",
    "    return wml_client.deployments.get_details()['resources']\n",
    "\n",
    "\n",
    "# Find model using model name\n",
    "def get_models_by_name(wml_client, model_name):\n",
    "    all_models = wml_client.repository.get_model_details()['resources']\n",
    "    models = [m for m in all_models if m['entity']['name'] == model_name]\n",
    "    return models\n",
    "\n",
    "\n",
    "# Find deployment using deployment name\n",
    "def get_deployments_by_name(wml_client, deployment_name):\n",
    "    all_deployments = wml_client.deployments.get_details()['resources']\n",
    "    deployments = [d for d in all_deployments if d['entity']['name'] == deployment_name][0]\n",
    "    return deployments\n"
   ]
  },
  {
   "cell_type": "code",
   "execution_count": null,
   "metadata": {},
   "outputs": [],
   "source": [
    "delete_deployment(client, deployment_uid)"
   ]
  },
  {
   "cell_type": "code",
   "execution_count": null,
   "metadata": {},
   "outputs": [],
   "source": [
    "delete_model(client, model_uid)"
   ]
  },
  {
   "cell_type": "code",
   "execution_count": null,
   "metadata": {},
   "outputs": [],
   "source": [
    "list_deployments(client)"
   ]
  },
  {
   "cell_type": "code",
   "execution_count": null,
   "metadata": {},
   "outputs": [],
   "source": [
    "list_models(client)"
   ]
  },
  {
   "cell_type": "code",
   "execution_count": null,
   "metadata": {},
   "outputs": [],
   "source": []
  }
 ],
 "metadata": {
  "kernelspec": {
   "display_name": "Python 3.6",
   "language": "python",
   "name": "python3"
  },
  "language_info": {
   "codemirror_mode": {
    "name": "ipython",
    "version": 3
   },
   "file_extension": ".py",
   "mimetype": "text/x-python",
   "name": "python",
   "nbconvert_exporter": "python",
   "pygments_lexer": "ipython3",
   "version": "3.6.9"
  }
 },
 "nbformat": 4,
 "nbformat_minor": 4
}
